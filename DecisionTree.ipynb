{
 "cells": [
  {
   "cell_type": "markdown",
   "metadata": {},
   "source": [
    "# Decision Tree and Random Forest Classifiers"
   ]
  },
  {
   "cell_type": "code",
   "execution_count": 1,
   "metadata": {
    "collapsed": true
   },
   "outputs": [],
   "source": [
    "import pandas as pd\n",
    "import numpy as np\n",
    "import seaborn as sns\n",
    "import matplotlib.pyplot as plt\n",
    "%matplotlib inline"
   ]
  },
  {
   "cell_type": "code",
   "execution_count": 7,
   "metadata": {
    "collapsed": true
   },
   "outputs": [],
   "source": [
    "df = pd.read_csv('C:/Users/Lauren/Documents/ORIE4741/4741project/var_num_hgr_null.csv')"
   ]
  },
  {
   "cell_type": "code",
   "execution_count": 3,
   "metadata": {},
   "outputs": [
    {
     "data": {
      "text/html": [
       "<div>\n",
       "<style>\n",
       "    .dataframe thead tr:only-child th {\n",
       "        text-align: right;\n",
       "    }\n",
       "\n",
       "    .dataframe thead th {\n",
       "        text-align: left;\n",
       "    }\n",
       "\n",
       "    .dataframe tbody tr th {\n",
       "        vertical-align: top;\n",
       "    }\n",
       "</style>\n",
       "<table border=\"1\" class=\"dataframe\">\n",
       "  <thead>\n",
       "    <tr style=\"text-align: right;\">\n",
       "      <th></th>\n",
       "      <th>CASEID</th>\n",
       "      <th>AGE1979</th>\n",
       "      <th>SAMPLE_SEX</th>\n",
       "      <th>SAMPLE_RACE</th>\n",
       "      <th>AFQT</th>\n",
       "      <th>ASVAB</th>\n",
       "      <th>HIGHESTGRADE</th>\n",
       "      <th>HEALTHLIMIT</th>\n",
       "      <th>INCOME</th>\n",
       "      <th>INDUSTRY</th>\n",
       "      <th>NUMJOBS</th>\n",
       "      <th>URBAN_RURAL</th>\n",
       "      <th>REGION</th>\n",
       "      <th>MARSTAT_COL</th>\n",
       "      <th>YR_ENT_LF</th>\n",
       "      <th>YR_EMP</th>\n",
       "      <th>YR_UNEMP</th>\n",
       "      <th>YR_OUT</th>\n",
       "      <th>AGE_ENT</th>\n",
       "      <th>UNEMP</th>\n",
       "    </tr>\n",
       "  </thead>\n",
       "  <tbody>\n",
       "    <tr>\n",
       "      <th>0</th>\n",
       "      <td>2.0</td>\n",
       "      <td>20.0</td>\n",
       "      <td>2.0</td>\n",
       "      <td>3.0</td>\n",
       "      <td>6841.0</td>\n",
       "      <td>52.0</td>\n",
       "      <td>2.0</td>\n",
       "      <td>0.0</td>\n",
       "      <td>19000.0</td>\n",
       "      <td>4.0</td>\n",
       "      <td>2.0</td>\n",
       "      <td>1.0</td>\n",
       "      <td>1.0</td>\n",
       "      <td>1.0</td>\n",
       "      <td>1979.0</td>\n",
       "      <td>15.0</td>\n",
       "      <td>0.0</td>\n",
       "      <td>4.0</td>\n",
       "      <td>20.0</td>\n",
       "      <td>0.0</td>\n",
       "    </tr>\n",
       "    <tr>\n",
       "      <th>1</th>\n",
       "      <td>6.0</td>\n",
       "      <td>18.0</td>\n",
       "      <td>1.0</td>\n",
       "      <td>3.0</td>\n",
       "      <td>99393.0</td>\n",
       "      <td>68.0</td>\n",
       "      <td>3.0</td>\n",
       "      <td>0.0</td>\n",
       "      <td>25000.0</td>\n",
       "      <td>6.0</td>\n",
       "      <td>2.0</td>\n",
       "      <td>1.0</td>\n",
       "      <td>4.0</td>\n",
       "      <td>2.0</td>\n",
       "      <td>1982.0</td>\n",
       "      <td>15.0</td>\n",
       "      <td>0.0</td>\n",
       "      <td>0.0</td>\n",
       "      <td>21.0</td>\n",
       "      <td>0.0</td>\n",
       "    </tr>\n",
       "    <tr>\n",
       "      <th>2</th>\n",
       "      <td>8.0</td>\n",
       "      <td>20.0</td>\n",
       "      <td>2.0</td>\n",
       "      <td>3.0</td>\n",
       "      <td>44022.0</td>\n",
       "      <td>48.0</td>\n",
       "      <td>2.0</td>\n",
       "      <td>0.0</td>\n",
       "      <td>15500.0</td>\n",
       "      <td>8.0</td>\n",
       "      <td>3.0</td>\n",
       "      <td>1.0</td>\n",
       "      <td>1.0</td>\n",
       "      <td>3.0</td>\n",
       "      <td>1981.0</td>\n",
       "      <td>16.0</td>\n",
       "      <td>0.0</td>\n",
       "      <td>1.0</td>\n",
       "      <td>22.0</td>\n",
       "      <td>0.0</td>\n",
       "    </tr>\n",
       "    <tr>\n",
       "      <th>3</th>\n",
       "      <td>9.0</td>\n",
       "      <td>15.0</td>\n",
       "      <td>1.0</td>\n",
       "      <td>3.0</td>\n",
       "      <td>59683.0</td>\n",
       "      <td>46.0</td>\n",
       "      <td>3.0</td>\n",
       "      <td>0.0</td>\n",
       "      <td>20000.0</td>\n",
       "      <td>10.0</td>\n",
       "      <td>1.0</td>\n",
       "      <td>1.0</td>\n",
       "      <td>1.0</td>\n",
       "      <td>2.0</td>\n",
       "      <td>1981.0</td>\n",
       "      <td>16.0</td>\n",
       "      <td>0.0</td>\n",
       "      <td>1.0</td>\n",
       "      <td>17.0</td>\n",
       "      <td>0.0</td>\n",
       "    </tr>\n",
       "    <tr>\n",
       "      <th>4</th>\n",
       "      <td>13.0</td>\n",
       "      <td>20.0</td>\n",
       "      <td>1.0</td>\n",
       "      <td>3.0</td>\n",
       "      <td>72313.0</td>\n",
       "      <td>30.0</td>\n",
       "      <td>3.0</td>\n",
       "      <td>0.0</td>\n",
       "      <td>31000.0</td>\n",
       "      <td>9.0</td>\n",
       "      <td>2.0</td>\n",
       "      <td>1.0</td>\n",
       "      <td>1.0</td>\n",
       "      <td>2.0</td>\n",
       "      <td>1979.0</td>\n",
       "      <td>19.0</td>\n",
       "      <td>0.0</td>\n",
       "      <td>0.0</td>\n",
       "      <td>20.0</td>\n",
       "      <td>0.0</td>\n",
       "    </tr>\n",
       "  </tbody>\n",
       "</table>\n",
       "</div>"
      ],
      "text/plain": [
       "   CASEID  AGE1979  SAMPLE_SEX  SAMPLE_RACE     AFQT  ASVAB  HIGHESTGRADE  \\\n",
       "0     2.0     20.0         2.0          3.0   6841.0   52.0           2.0   \n",
       "1     6.0     18.0         1.0          3.0  99393.0   68.0           3.0   \n",
       "2     8.0     20.0         2.0          3.0  44022.0   48.0           2.0   \n",
       "3     9.0     15.0         1.0          3.0  59683.0   46.0           3.0   \n",
       "4    13.0     20.0         1.0          3.0  72313.0   30.0           3.0   \n",
       "\n",
       "   HEALTHLIMIT   INCOME  INDUSTRY  NUMJOBS  URBAN_RURAL  REGION  MARSTAT_COL  \\\n",
       "0          0.0  19000.0       4.0      2.0          1.0     1.0          1.0   \n",
       "1          0.0  25000.0       6.0      2.0          1.0     4.0          2.0   \n",
       "2          0.0  15500.0       8.0      3.0          1.0     1.0          3.0   \n",
       "3          0.0  20000.0      10.0      1.0          1.0     1.0          2.0   \n",
       "4          0.0  31000.0       9.0      2.0          1.0     1.0          2.0   \n",
       "\n",
       "   YR_ENT_LF  YR_EMP  YR_UNEMP  YR_OUT  AGE_ENT  UNEMP  \n",
       "0     1979.0    15.0       0.0     4.0     20.0    0.0  \n",
       "1     1982.0    15.0       0.0     0.0     21.0    0.0  \n",
       "2     1981.0    16.0       0.0     1.0     22.0    0.0  \n",
       "3     1981.0    16.0       0.0     1.0     17.0    0.0  \n",
       "4     1979.0    19.0       0.0     0.0     20.0    0.0  "
      ]
     },
     "execution_count": 3,
     "metadata": {},
     "output_type": "execute_result"
    }
   ],
   "source": [
    "df.head()"
   ]
  },
  {
   "cell_type": "code",
   "execution_count": 4,
   "metadata": {
    "collapsed": true
   },
   "outputs": [],
   "source": [
    "#create a boolean column to see if they have ever experienced unemployment\n",
    "def exper_tf(row):\n",
    "    if row['YR_UNEMP']>0.0:\n",
    "        return 1\n",
    "    else:\n",
    "        return 0"
   ]
  },
  {
   "cell_type": "code",
   "execution_count": 5,
   "metadata": {
    "collapsed": true
   },
   "outputs": [],
   "source": [
    "df['UNEMP_TF'] = df.apply(exper_tf, axis = 1)"
   ]
  },
  {
   "cell_type": "code",
   "execution_count": 6,
   "metadata": {
    "collapsed": true
   },
   "outputs": [],
   "source": [
    "df = df.drop('YR_UNEMP', 1)\n",
    "df = df.drop('UNEMP', 1)"
   ]
  },
  {
   "cell_type": "markdown",
   "metadata": {},
   "source": [
    "## Encode categorical variables"
   ]
  },
  {
   "cell_type": "code",
   "execution_count": 7,
   "metadata": {
    "collapsed": true
   },
   "outputs": [],
   "source": [
    "clean_data_dumb = pd.get_dummies(df, prefix='Sex', columns=['SAMPLE_SEX'], drop_first=True)\n",
    "clean_data_dumb=clean_data_dumb.rename(columns = {'Sex_1.0':'Male'})\n",
    "clean_data_dumb=clean_data_dumb.rename(columns = {'Sex_2.0':'Female'})"
   ]
  },
  {
   "cell_type": "code",
   "execution_count": 8,
   "metadata": {
    "collapsed": true
   },
   "outputs": [],
   "source": [
    "clean_data_dumb = pd.get_dummies(clean_data_dumb, prefix='Race', columns=['SAMPLE_RACE'], drop_first=True)\n",
    "clean_data_dumb=clean_data_dumb.rename(columns = {'Race_3.0':'NBNH'})\n",
    "clean_data_dumb=clean_data_dumb.rename(columns = {'Race_2.0':'Black'})\n",
    "clean_data_dumb=clean_data_dumb.rename(columns = {'Race_1.0':'Hispanic'})"
   ]
  },
  {
   "cell_type": "code",
   "execution_count": 9,
   "metadata": {
    "collapsed": true
   },
   "outputs": [],
   "source": [
    "clean_data_dumb = pd.get_dummies(clean_data_dumb, prefix='Region', columns=['REGION'], drop_first=True)\n",
    "clean_data_dumb=clean_data_dumb.rename(columns = {'Region_4.0':'West'})\n",
    "clean_data_dumb=clean_data_dumb.rename(columns = {'Region_3.0':'South'})\n",
    "clean_data_dumb=clean_data_dumb.rename(columns = {'Region_2.0':'North_Central'})\n",
    "clean_data_dumb=clean_data_dumb.rename(columns = {'Region_1.0':'Northeast'})"
   ]
  },
  {
   "cell_type": "code",
   "execution_count": 10,
   "metadata": {
    "collapsed": true
   },
   "outputs": [],
   "source": [
    "clean_data_dumb = pd.get_dummies(clean_data_dumb, prefix='Mar', columns=['MARSTAT_COL'], drop_first=True)\n",
    "clean_data_dumb=clean_data_dumb.rename(columns = {'Mar_3.0':'Other'})\n",
    "clean_data_dumb=clean_data_dumb.rename(columns = {'Mar_2.0':'Married'})\n",
    "clean_data_dumb=clean_data_dumb.rename(columns = {'Mar_1.0':'Never_Mar'})"
   ]
  },
  {
   "cell_type": "code",
   "execution_count": 11,
   "metadata": {},
   "outputs": [
    {
     "data": {
      "text/html": [
       "<div>\n",
       "<style>\n",
       "    .dataframe thead tr:only-child th {\n",
       "        text-align: right;\n",
       "    }\n",
       "\n",
       "    .dataframe thead th {\n",
       "        text-align: left;\n",
       "    }\n",
       "\n",
       "    .dataframe tbody tr th {\n",
       "        vertical-align: top;\n",
       "    }\n",
       "</style>\n",
       "<table border=\"1\" class=\"dataframe\">\n",
       "  <thead>\n",
       "    <tr style=\"text-align: right;\">\n",
       "      <th></th>\n",
       "      <th>CASEID</th>\n",
       "      <th>AGE1979</th>\n",
       "      <th>AFQT</th>\n",
       "      <th>ASVAB</th>\n",
       "      <th>HIGHESTGRADE</th>\n",
       "      <th>HEALTHLIMIT</th>\n",
       "      <th>INCOME</th>\n",
       "      <th>INDUSTRY</th>\n",
       "      <th>NUMJOBS</th>\n",
       "      <th>URBAN_RURAL</th>\n",
       "      <th>...</th>\n",
       "      <th>AGE_ENT</th>\n",
       "      <th>UNEMP_TF</th>\n",
       "      <th>Female</th>\n",
       "      <th>Black</th>\n",
       "      <th>NBNH</th>\n",
       "      <th>North_Central</th>\n",
       "      <th>South</th>\n",
       "      <th>West</th>\n",
       "      <th>Married</th>\n",
       "      <th>Other</th>\n",
       "    </tr>\n",
       "  </thead>\n",
       "  <tbody>\n",
       "    <tr>\n",
       "      <th>0</th>\n",
       "      <td>2.0</td>\n",
       "      <td>20.0</td>\n",
       "      <td>6841.0</td>\n",
       "      <td>52.0</td>\n",
       "      <td>2.0</td>\n",
       "      <td>0.0</td>\n",
       "      <td>19000.0</td>\n",
       "      <td>4.0</td>\n",
       "      <td>2.0</td>\n",
       "      <td>1.0</td>\n",
       "      <td>...</td>\n",
       "      <td>20.0</td>\n",
       "      <td>0</td>\n",
       "      <td>1</td>\n",
       "      <td>0</td>\n",
       "      <td>1</td>\n",
       "      <td>0</td>\n",
       "      <td>0</td>\n",
       "      <td>0</td>\n",
       "      <td>0</td>\n",
       "      <td>0</td>\n",
       "    </tr>\n",
       "    <tr>\n",
       "      <th>1</th>\n",
       "      <td>6.0</td>\n",
       "      <td>18.0</td>\n",
       "      <td>99393.0</td>\n",
       "      <td>68.0</td>\n",
       "      <td>3.0</td>\n",
       "      <td>0.0</td>\n",
       "      <td>25000.0</td>\n",
       "      <td>6.0</td>\n",
       "      <td>2.0</td>\n",
       "      <td>1.0</td>\n",
       "      <td>...</td>\n",
       "      <td>21.0</td>\n",
       "      <td>0</td>\n",
       "      <td>0</td>\n",
       "      <td>0</td>\n",
       "      <td>1</td>\n",
       "      <td>0</td>\n",
       "      <td>0</td>\n",
       "      <td>1</td>\n",
       "      <td>1</td>\n",
       "      <td>0</td>\n",
       "    </tr>\n",
       "    <tr>\n",
       "      <th>2</th>\n",
       "      <td>8.0</td>\n",
       "      <td>20.0</td>\n",
       "      <td>44022.0</td>\n",
       "      <td>48.0</td>\n",
       "      <td>2.0</td>\n",
       "      <td>0.0</td>\n",
       "      <td>15500.0</td>\n",
       "      <td>8.0</td>\n",
       "      <td>3.0</td>\n",
       "      <td>1.0</td>\n",
       "      <td>...</td>\n",
       "      <td>22.0</td>\n",
       "      <td>0</td>\n",
       "      <td>1</td>\n",
       "      <td>0</td>\n",
       "      <td>1</td>\n",
       "      <td>0</td>\n",
       "      <td>0</td>\n",
       "      <td>0</td>\n",
       "      <td>0</td>\n",
       "      <td>1</td>\n",
       "    </tr>\n",
       "    <tr>\n",
       "      <th>3</th>\n",
       "      <td>9.0</td>\n",
       "      <td>15.0</td>\n",
       "      <td>59683.0</td>\n",
       "      <td>46.0</td>\n",
       "      <td>3.0</td>\n",
       "      <td>0.0</td>\n",
       "      <td>20000.0</td>\n",
       "      <td>10.0</td>\n",
       "      <td>1.0</td>\n",
       "      <td>1.0</td>\n",
       "      <td>...</td>\n",
       "      <td>17.0</td>\n",
       "      <td>0</td>\n",
       "      <td>0</td>\n",
       "      <td>0</td>\n",
       "      <td>1</td>\n",
       "      <td>0</td>\n",
       "      <td>0</td>\n",
       "      <td>0</td>\n",
       "      <td>1</td>\n",
       "      <td>0</td>\n",
       "    </tr>\n",
       "    <tr>\n",
       "      <th>4</th>\n",
       "      <td>13.0</td>\n",
       "      <td>20.0</td>\n",
       "      <td>72313.0</td>\n",
       "      <td>30.0</td>\n",
       "      <td>3.0</td>\n",
       "      <td>0.0</td>\n",
       "      <td>31000.0</td>\n",
       "      <td>9.0</td>\n",
       "      <td>2.0</td>\n",
       "      <td>1.0</td>\n",
       "      <td>...</td>\n",
       "      <td>20.0</td>\n",
       "      <td>0</td>\n",
       "      <td>0</td>\n",
       "      <td>0</td>\n",
       "      <td>1</td>\n",
       "      <td>0</td>\n",
       "      <td>0</td>\n",
       "      <td>0</td>\n",
       "      <td>1</td>\n",
       "      <td>0</td>\n",
       "    </tr>\n",
       "  </tbody>\n",
       "</table>\n",
       "<p>5 rows × 23 columns</p>\n",
       "</div>"
      ],
      "text/plain": [
       "   CASEID  AGE1979     AFQT  ASVAB  HIGHESTGRADE  HEALTHLIMIT   INCOME  \\\n",
       "0     2.0     20.0   6841.0   52.0           2.0          0.0  19000.0   \n",
       "1     6.0     18.0  99393.0   68.0           3.0          0.0  25000.0   \n",
       "2     8.0     20.0  44022.0   48.0           2.0          0.0  15500.0   \n",
       "3     9.0     15.0  59683.0   46.0           3.0          0.0  20000.0   \n",
       "4    13.0     20.0  72313.0   30.0           3.0          0.0  31000.0   \n",
       "\n",
       "   INDUSTRY  NUMJOBS  URBAN_RURAL  ...    AGE_ENT  UNEMP_TF  Female  Black  \\\n",
       "0       4.0      2.0          1.0  ...       20.0         0       1      0   \n",
       "1       6.0      2.0          1.0  ...       21.0         0       0      0   \n",
       "2       8.0      3.0          1.0  ...       22.0         0       1      0   \n",
       "3      10.0      1.0          1.0  ...       17.0         0       0      0   \n",
       "4       9.0      2.0          1.0  ...       20.0         0       0      0   \n",
       "\n",
       "   NBNH  North_Central  South  West  Married  Other  \n",
       "0     1              0      0     0        0      0  \n",
       "1     1              0      0     1        1      0  \n",
       "2     1              0      0     0        0      1  \n",
       "3     1              0      0     0        1      0  \n",
       "4     1              0      0     0        1      0  \n",
       "\n",
       "[5 rows x 23 columns]"
      ]
     },
     "execution_count": 11,
     "metadata": {},
     "output_type": "execute_result"
    }
   ],
   "source": [
    "clean_data_dumb.head()"
   ]
  },
  {
   "cell_type": "markdown",
   "metadata": {},
   "source": [
    "## Decision Tree Classifier"
   ]
  },
  {
   "cell_type": "code",
   "execution_count": 12,
   "metadata": {
    "collapsed": true
   },
   "outputs": [],
   "source": [
    "import sklearn\n",
    "from sklearn import tree"
   ]
  },
  {
   "cell_type": "code",
   "execution_count": 13,
   "metadata": {
    "collapsed": true
   },
   "outputs": [],
   "source": [
    "X = clean_data_dumb.loc[:, clean_data_dumb.columns != 'UNEMP_TF']\n",
    "target = clean_data_dumb['UNEMP_TF']"
   ]
  },
  {
   "cell_type": "code",
   "execution_count": 14,
   "metadata": {
    "collapsed": true
   },
   "outputs": [],
   "source": [
    "X_train, X_test, y_train, y_test = sklearn.model_selection.train_test_split(X, target, test_size=0.2)"
   ]
  },
  {
   "cell_type": "code",
   "execution_count": 15,
   "metadata": {
    "collapsed": true
   },
   "outputs": [],
   "source": [
    "clf = tree.DecisionTreeClassifier()\n",
    "clf = clf.fit(X_train, y_train)"
   ]
  },
  {
   "cell_type": "code",
   "execution_count": 16,
   "metadata": {},
   "outputs": [
    {
     "data": {
      "text/plain": [
       "<bound method BaseDecisionTree.decision_path of DecisionTreeClassifier(class_weight=None, criterion='gini', max_depth=None,\n",
       "            max_features=None, max_leaf_nodes=None,\n",
       "            min_impurity_split=1e-07, min_samples_leaf=1,\n",
       "            min_samples_split=2, min_weight_fraction_leaf=0.0,\n",
       "            presort=False, random_state=None, splitter='best')>"
      ]
     },
     "execution_count": 16,
     "metadata": {},
     "output_type": "execute_result"
    }
   ],
   "source": [
    "clf.decision_path"
   ]
  },
  {
   "cell_type": "code",
   "execution_count": 17,
   "metadata": {},
   "outputs": [
    {
     "data": {
      "text/plain": [
       "array([ 0.10788586,  0.0252771 ,  0.09670781,  0.08088311,  0.01130853,\n",
       "        0.00289335,  0.11112987,  0.04062882,  0.01986249,  0.00795169,\n",
       "        0.08342147,  0.19899426,  0.08124574,  0.05070389,  0.01875183,\n",
       "        0.00792611,  0.00764055,  0.00590838,  0.01340738,  0.01033918,\n",
       "        0.01238879,  0.0047438 ])"
      ]
     },
     "execution_count": 17,
     "metadata": {},
     "output_type": "execute_result"
    }
   ],
   "source": [
    "clf.feature_importances_"
   ]
  },
  {
   "cell_type": "code",
   "execution_count": 18,
   "metadata": {},
   "outputs": [
    {
     "data": {
      "text/plain": [
       "0.70729455216989845"
      ]
     },
     "execution_count": 18,
     "metadata": {},
     "output_type": "execute_result"
    }
   ],
   "source": [
    "clf.score(X_test, y_test)"
   ]
  },
  {
   "cell_type": "code",
   "execution_count": 19,
   "metadata": {
    "collapsed": true
   },
   "outputs": [],
   "source": [
    "#take two corresponding features\n",
    "#take the data of those column indices\n",
    "#pairs 2,3 income 6, industry 7, 11,10, combos"
   ]
  },
  {
   "cell_type": "markdown",
   "metadata": {},
   "source": [
    "### Make a graph of decision surface for paired features"
   ]
  },
  {
   "cell_type": "code",
   "execution_count": 60,
   "metadata": {
    "collapsed": true
   },
   "outputs": [],
   "source": [
    "n_classes = 2\n",
    "plot_colors = \"rb\"\n",
    "plot_step = 2"
   ]
  },
  {
   "cell_type": "code",
   "execution_count": 61,
   "metadata": {},
   "outputs": [
    {
     "data": {
      "text/plain": [
       "CASEID           float64\n",
       "AGE1979          float64\n",
       "AFQT             float64\n",
       "ASVAB            float64\n",
       "HIGHESTGRADE     float64\n",
       "HEALTHLIMIT      float64\n",
       "INCOME           float64\n",
       "INDUSTRY         float64\n",
       "NUMJOBS          float64\n",
       "URBAN_RURAL      float64\n",
       "YR_ENT_LF        float64\n",
       "YR_EMP           float64\n",
       "YR_OUT           float64\n",
       "AGE_ENT          float64\n",
       "Female             uint8\n",
       "Black              uint8\n",
       "NBNH               uint8\n",
       "North_Central      uint8\n",
       "South              uint8\n",
       "West               uint8\n",
       "Married            uint8\n",
       "Other              uint8\n",
       "dtype: object"
      ]
     },
     "execution_count": 61,
     "metadata": {},
     "output_type": "execute_result"
    }
   ],
   "source": [
    "X.dtypes"
   ]
  },
  {
   "cell_type": "code",
   "execution_count": 62,
   "metadata": {
    "collapsed": true
   },
   "outputs": [],
   "source": [
    "#test out different pairs- adjust plot_step accordingly or it will crash\n",
    "pair = [6,11]\n",
    "names = [X.columns[pair[0]], X.columns[pair[1]]]\n",
    "X_tmp = X_train.loc[:, (clean_data_dumb.columns == names[0]) | (clean_data_dumb.columns == names[1])]"
   ]
  },
  {
   "cell_type": "code",
   "execution_count": 63,
   "metadata": {
    "collapsed": true,
    "scrolled": true
   },
   "outputs": [],
   "source": [
    "y = y_train\n",
    "clf = tree.DecisionTreeClassifier().fit(X_tmp, y)\n",
    "X_tmp = X_tmp.as_matrix()"
   ]
  },
  {
   "cell_type": "code",
   "execution_count": 64,
   "metadata": {
    "collapsed": true
   },
   "outputs": [],
   "source": [
    "x_min, x_max = X_tmp[:, 0].min() - 1, X_tmp[:, 0].max() + 1\n",
    "y_min, y_max = X_tmp[:, 1].min() - 1, X_tmp[:, 1].max() + 1"
   ]
  },
  {
   "cell_type": "code",
   "execution_count": 66,
   "metadata": {
    "collapsed": true
   },
   "outputs": [],
   "source": [
    "#BEFORE RUNNING THIS CELL- DID YOU CHANGE THE PLOT_STEP ACCORDINGLY??\n",
    "xx, yy = np.meshgrid(np.arange(x_min, x_max, plot_step),\n",
    "                         np.arange(y_min, y_max, plot_step))"
   ]
  },
  {
   "cell_type": "code",
   "execution_count": 67,
   "metadata": {},
   "outputs": [
    {
     "data": {
      "text/plain": [
       "(-5802.3158718568711, 107455.31587185687, 1.0, 20.068320882182025)"
      ]
     },
     "execution_count": 67,
     "metadata": {},
     "output_type": "execute_result"
    },
    {
     "data": {
      "image/png": "[encoded data removed]",
      "text/plain": [
       "<matplotlib.figure.Figure at 0x24dd158b470>"
      ]
     },
     "metadata": {},
     "output_type": "display_data"
    }
   ],
   "source": [
    "Z = clf.predict(np.c_[xx.ravel(), yy.ravel()])\n",
    "Z = Z.reshape(xx.shape)\n",
    "cs = plt.contourf(xx, yy, Z, cmap=plt.cm.RdBu)\n",
    "plt.xlabel(X.columns[pair[0]])\n",
    "plt.ylabel(X.columns[pair[1]])\n",
    "\n",
    "target_names = ['No', 'Yes']\n",
    "for i, color in zip(range(n_classes), plot_colors):\n",
    "        idx = np.where(y == i)\n",
    "        plt.scatter(X_tmp[idx, 0], X_tmp[idx, 1], c=color, label=target_names[i],\n",
    "                    cmap=plt.cm.RdBu, edgecolor='black', s=15)\n",
    "        \n",
    "plt.suptitle(\"Decision surface of a decision tree using paired features\")\n",
    "plt.legend(loc='lower right', borderpad=0, handletextpad=0)\n",
    "plt.axis(\"tight\")"
   ]
  },
  {
   "cell_type": "markdown",
   "metadata": {},
   "source": [
    "### Random Forest"
   ]
  },
  {
   "cell_type": "code",
   "execution_count": 68,
   "metadata": {
    "collapsed": true
   },
   "outputs": [],
   "source": [
    "from sklearn.ensemble import RandomForestClassifier"
   ]
  },
  {
   "cell_type": "code",
   "execution_count": 83,
   "metadata": {},
   "outputs": [
    {
     "data": {
      "text/plain": [
       "RandomForestClassifier(bootstrap=True, class_weight=None, criterion='gini',\n",
       "            max_depth=None, max_features='auto', max_leaf_nodes=None,\n",
       "            min_impurity_split=1e-07, min_samples_leaf=1,\n",
       "            min_samples_split=2, min_weight_fraction_leaf=0.0,\n",
       "            n_estimators=50, n_jobs=1, oob_score=False, random_state=None,\n",
       "            verbose=0, warm_start=False)"
      ]
     },
     "execution_count": 83,
     "metadata": {},
     "output_type": "execute_result"
    }
   ],
   "source": [
    "clf = RandomForestClassifier(n_estimators=50)\n",
    "clf.fit(X_train, y_train)"
   ]
  },
  {
   "cell_type": "code",
   "execution_count": 84,
   "metadata": {},
   "outputs": [
    {
     "data": {
      "text/plain": [
       "0.74053554939981536"
      ]
     },
     "execution_count": 84,
     "metadata": {},
     "output_type": "execute_result"
    }
   ],
   "source": [
    "clf.score(X_test, y_test)"
   ]
  },
  {
   "cell_type": "code",
   "execution_count": null,
   "metadata": {
    "collapsed": true
   },
   "outputs": [],
   "source": [
    "#random forest first pass (with 10 trees) does not do any better than a single decision tree\n",
    "#50 trees gets us up to 75 percent accuracy on the test set"
   ]
  },
  {
   "cell_type": "code",
   "execution_count": null,
   "metadata": {
    "collapsed": true
   },
   "outputs": [],
   "source": [
    "#try tree on males only\n",
    "#do cross validation on the tre"
   ]
  },
  {
   "cell_type": "markdown",
   "metadata": {
    "collapsed": true
   },
   "source": [
    "## Now, Use Male Only Data"
   ]
  },
  {
   "cell_type": "code",
   "execution_count": 8,
   "metadata": {},
   "outputs": [],
   "source": [
    "df = pd.read_csv('C:/Users/Lauren/Documents/ORIE4741/4741project/var_num_hgr_null.csv')"
   ]
  },
  {
   "cell_type": "code",
   "execution_count": 9,
   "metadata": {},
   "outputs": [
    {
     "data": {
      "text/html": [
       "<div>\n",
       "<style>\n",
       "    .dataframe thead tr:only-child th {\n",
       "        text-align: right;\n",
       "    }\n",
       "\n",
       "    .dataframe thead th {\n",
       "        text-align: left;\n",
       "    }\n",
       "\n",
       "    .dataframe tbody tr th {\n",
       "        vertical-align: top;\n",
       "    }\n",
       "</style>\n",
       "<table border=\"1\" class=\"dataframe\">\n",
       "  <thead>\n",
       "    <tr style=\"text-align: right;\">\n",
       "      <th></th>\n",
       "      <th>CASEID</th>\n",
       "      <th>AGE1979</th>\n",
       "      <th>SAMPLE_SEX</th>\n",
       "      <th>SAMPLE_RACE</th>\n",
       "      <th>AFQT</th>\n",
       "      <th>ASVAB</th>\n",
       "      <th>HIGHESTGRADE</th>\n",
       "      <th>HEALTHLIMIT</th>\n",
       "      <th>INCOME</th>\n",
       "      <th>INDUSTRY</th>\n",
       "      <th>NUMJOBS</th>\n",
       "      <th>URBAN_RURAL</th>\n",
       "      <th>REGION</th>\n",
       "      <th>MARSTAT_COL</th>\n",
       "      <th>YR_ENT_LF</th>\n",
       "      <th>YR_EMP</th>\n",
       "      <th>YR_UNEMP</th>\n",
       "      <th>YR_OUT</th>\n",
       "      <th>AGE_ENT</th>\n",
       "      <th>UNEMP</th>\n",
       "    </tr>\n",
       "  </thead>\n",
       "  <tbody>\n",
       "    <tr>\n",
       "      <th>0</th>\n",
       "      <td>2.0</td>\n",
       "      <td>20.0</td>\n",
       "      <td>2.0</td>\n",
       "      <td>3.0</td>\n",
       "      <td>6841.0</td>\n",
       "      <td>52.0</td>\n",
       "      <td>2.0</td>\n",
       "      <td>0.0</td>\n",
       "      <td>19000.0</td>\n",
       "      <td>4.0</td>\n",
       "      <td>2.0</td>\n",
       "      <td>1.0</td>\n",
       "      <td>1.0</td>\n",
       "      <td>1.0</td>\n",
       "      <td>1979.0</td>\n",
       "      <td>15.0</td>\n",
       "      <td>0.0</td>\n",
       "      <td>4.0</td>\n",
       "      <td>20.0</td>\n",
       "      <td>0.0</td>\n",
       "    </tr>\n",
       "    <tr>\n",
       "      <th>1</th>\n",
       "      <td>6.0</td>\n",
       "      <td>18.0</td>\n",
       "      <td>1.0</td>\n",
       "      <td>3.0</td>\n",
       "      <td>99393.0</td>\n",
       "      <td>68.0</td>\n",
       "      <td>3.0</td>\n",
       "      <td>0.0</td>\n",
       "      <td>25000.0</td>\n",
       "      <td>6.0</td>\n",
       "      <td>2.0</td>\n",
       "      <td>1.0</td>\n",
       "      <td>4.0</td>\n",
       "      <td>2.0</td>\n",
       "      <td>1982.0</td>\n",
       "      <td>15.0</td>\n",
       "      <td>0.0</td>\n",
       "      <td>0.0</td>\n",
       "      <td>21.0</td>\n",
       "      <td>0.0</td>\n",
       "    </tr>\n",
       "    <tr>\n",
       "      <th>2</th>\n",
       "      <td>8.0</td>\n",
       "      <td>20.0</td>\n",
       "      <td>2.0</td>\n",
       "      <td>3.0</td>\n",
       "      <td>44022.0</td>\n",
       "      <td>48.0</td>\n",
       "      <td>2.0</td>\n",
       "      <td>0.0</td>\n",
       "      <td>15500.0</td>\n",
       "      <td>8.0</td>\n",
       "      <td>3.0</td>\n",
       "      <td>1.0</td>\n",
       "      <td>1.0</td>\n",
       "      <td>3.0</td>\n",
       "      <td>1981.0</td>\n",
       "      <td>16.0</td>\n",
       "      <td>0.0</td>\n",
       "      <td>1.0</td>\n",
       "      <td>22.0</td>\n",
       "      <td>0.0</td>\n",
       "    </tr>\n",
       "    <tr>\n",
       "      <th>3</th>\n",
       "      <td>9.0</td>\n",
       "      <td>15.0</td>\n",
       "      <td>1.0</td>\n",
       "      <td>3.0</td>\n",
       "      <td>59683.0</td>\n",
       "      <td>46.0</td>\n",
       "      <td>3.0</td>\n",
       "      <td>0.0</td>\n",
       "      <td>20000.0</td>\n",
       "      <td>10.0</td>\n",
       "      <td>1.0</td>\n",
       "      <td>1.0</td>\n",
       "      <td>1.0</td>\n",
       "      <td>2.0</td>\n",
       "      <td>1981.0</td>\n",
       "      <td>16.0</td>\n",
       "      <td>0.0</td>\n",
       "      <td>1.0</td>\n",
       "      <td>17.0</td>\n",
       "      <td>0.0</td>\n",
       "    </tr>\n",
       "    <tr>\n",
       "      <th>4</th>\n",
       "      <td>13.0</td>\n",
       "      <td>20.0</td>\n",
       "      <td>1.0</td>\n",
       "      <td>3.0</td>\n",
       "      <td>72313.0</td>\n",
       "      <td>30.0</td>\n",
       "      <td>3.0</td>\n",
       "      <td>0.0</td>\n",
       "      <td>31000.0</td>\n",
       "      <td>9.0</td>\n",
       "      <td>2.0</td>\n",
       "      <td>1.0</td>\n",
       "      <td>1.0</td>\n",
       "      <td>2.0</td>\n",
       "      <td>1979.0</td>\n",
       "      <td>19.0</td>\n",
       "      <td>0.0</td>\n",
       "      <td>0.0</td>\n",
       "      <td>20.0</td>\n",
       "      <td>0.0</td>\n",
       "    </tr>\n",
       "  </tbody>\n",
       "</table>\n",
       "</div>"
      ],
      "text/plain": [
       "   CASEID  AGE1979  SAMPLE_SEX  SAMPLE_RACE     AFQT  ASVAB  HIGHESTGRADE  \\\n",
       "0     2.0     20.0         2.0          3.0   6841.0   52.0           2.0   \n",
       "1     6.0     18.0         1.0          3.0  99393.0   68.0           3.0   \n",
       "2     8.0     20.0         2.0          3.0  44022.0   48.0           2.0   \n",
       "3     9.0     15.0         1.0          3.0  59683.0   46.0           3.0   \n",
       "4    13.0     20.0         1.0          3.0  72313.0   30.0           3.0   \n",
       "\n",
       "   HEALTHLIMIT   INCOME  INDUSTRY  NUMJOBS  URBAN_RURAL  REGION  MARSTAT_COL  \\\n",
       "0          0.0  19000.0       4.0      2.0          1.0     1.0          1.0   \n",
       "1          0.0  25000.0       6.0      2.0          1.0     4.0          2.0   \n",
       "2          0.0  15500.0       8.0      3.0          1.0     1.0          3.0   \n",
       "3          0.0  20000.0      10.0      1.0          1.0     1.0          2.0   \n",
       "4          0.0  31000.0       9.0      2.0          1.0     1.0          2.0   \n",
       "\n",
       "   YR_ENT_LF  YR_EMP  YR_UNEMP  YR_OUT  AGE_ENT  UNEMP  \n",
       "0     1979.0    15.0       0.0     4.0     20.0    0.0  \n",
       "1     1982.0    15.0       0.0     0.0     21.0    0.0  \n",
       "2     1981.0    16.0       0.0     1.0     22.0    0.0  \n",
       "3     1981.0    16.0       0.0     1.0     17.0    0.0  \n",
       "4     1979.0    19.0       0.0     0.0     20.0    0.0  "
      ]
     },
     "execution_count": 9,
     "metadata": {},
     "output_type": "execute_result"
    }
   ],
   "source": [
    "df.head()"
   ]
  },
  {
   "cell_type": "code",
   "execution_count": 10,
   "metadata": {},
   "outputs": [],
   "source": [
    "df = df.loc[df['SAMPLE_SEX']==1.0]"
   ]
  },
  {
   "cell_type": "code",
   "execution_count": 11,
   "metadata": {},
   "outputs": [
    {
     "data": {
      "text/html": [
       "<div>\n",
       "<style>\n",
       "    .dataframe thead tr:only-child th {\n",
       "        text-align: right;\n",
       "    }\n",
       "\n",
       "    .dataframe thead th {\n",
       "        text-align: left;\n",
       "    }\n",
       "\n",
       "    .dataframe tbody tr th {\n",
       "        vertical-align: top;\n",
       "    }\n",
       "</style>\n",
       "<table border=\"1\" class=\"dataframe\">\n",
       "  <thead>\n",
       "    <tr style=\"text-align: right;\">\n",
       "      <th></th>\n",
       "      <th>CASEID</th>\n",
       "      <th>AGE1979</th>\n",
       "      <th>SAMPLE_SEX</th>\n",
       "      <th>SAMPLE_RACE</th>\n",
       "      <th>AFQT</th>\n",
       "      <th>ASVAB</th>\n",
       "      <th>HIGHESTGRADE</th>\n",
       "      <th>HEALTHLIMIT</th>\n",
       "      <th>INCOME</th>\n",
       "      <th>INDUSTRY</th>\n",
       "      <th>NUMJOBS</th>\n",
       "      <th>URBAN_RURAL</th>\n",
       "      <th>REGION</th>\n",
       "      <th>MARSTAT_COL</th>\n",
       "      <th>YR_ENT_LF</th>\n",
       "      <th>YR_EMP</th>\n",
       "      <th>YR_UNEMP</th>\n",
       "      <th>YR_OUT</th>\n",
       "      <th>AGE_ENT</th>\n",
       "      <th>UNEMP</th>\n",
       "    </tr>\n",
       "  </thead>\n",
       "  <tbody>\n",
       "    <tr>\n",
       "      <th>1</th>\n",
       "      <td>6.0</td>\n",
       "      <td>18.0</td>\n",
       "      <td>1.0</td>\n",
       "      <td>3.0</td>\n",
       "      <td>99393.0</td>\n",
       "      <td>68.0</td>\n",
       "      <td>3.0</td>\n",
       "      <td>0.0</td>\n",
       "      <td>25000.0</td>\n",
       "      <td>6.0</td>\n",
       "      <td>2.0</td>\n",
       "      <td>1.0</td>\n",
       "      <td>4.0</td>\n",
       "      <td>2.0</td>\n",
       "      <td>1982.0</td>\n",
       "      <td>15.0</td>\n",
       "      <td>0.0</td>\n",
       "      <td>0.0</td>\n",
       "      <td>21.0</td>\n",
       "      <td>0.0</td>\n",
       "    </tr>\n",
       "    <tr>\n",
       "      <th>3</th>\n",
       "      <td>9.0</td>\n",
       "      <td>15.0</td>\n",
       "      <td>1.0</td>\n",
       "      <td>3.0</td>\n",
       "      <td>59683.0</td>\n",
       "      <td>46.0</td>\n",
       "      <td>3.0</td>\n",
       "      <td>0.0</td>\n",
       "      <td>20000.0</td>\n",
       "      <td>10.0</td>\n",
       "      <td>1.0</td>\n",
       "      <td>1.0</td>\n",
       "      <td>1.0</td>\n",
       "      <td>2.0</td>\n",
       "      <td>1981.0</td>\n",
       "      <td>16.0</td>\n",
       "      <td>0.0</td>\n",
       "      <td>1.0</td>\n",
       "      <td>17.0</td>\n",
       "      <td>0.0</td>\n",
       "    </tr>\n",
       "    <tr>\n",
       "      <th>4</th>\n",
       "      <td>13.0</td>\n",
       "      <td>20.0</td>\n",
       "      <td>1.0</td>\n",
       "      <td>3.0</td>\n",
       "      <td>72313.0</td>\n",
       "      <td>30.0</td>\n",
       "      <td>3.0</td>\n",
       "      <td>0.0</td>\n",
       "      <td>31000.0</td>\n",
       "      <td>9.0</td>\n",
       "      <td>2.0</td>\n",
       "      <td>1.0</td>\n",
       "      <td>1.0</td>\n",
       "      <td>2.0</td>\n",
       "      <td>1979.0</td>\n",
       "      <td>19.0</td>\n",
       "      <td>0.0</td>\n",
       "      <td>0.0</td>\n",
       "      <td>20.0</td>\n",
       "      <td>0.0</td>\n",
       "    </tr>\n",
       "    <tr>\n",
       "      <th>7</th>\n",
       "      <td>17.0</td>\n",
       "      <td>22.0</td>\n",
       "      <td>1.0</td>\n",
       "      <td>3.0</td>\n",
       "      <td>89669.0</td>\n",
       "      <td>58.0</td>\n",
       "      <td>2.0</td>\n",
       "      <td>0.0</td>\n",
       "      <td>20000.0</td>\n",
       "      <td>6.0</td>\n",
       "      <td>2.0</td>\n",
       "      <td>1.0</td>\n",
       "      <td>1.0</td>\n",
       "      <td>1.0</td>\n",
       "      <td>1979.0</td>\n",
       "      <td>19.0</td>\n",
       "      <td>0.0</td>\n",
       "      <td>0.0</td>\n",
       "      <td>22.0</td>\n",
       "      <td>0.0</td>\n",
       "    </tr>\n",
       "    <tr>\n",
       "      <th>8</th>\n",
       "      <td>18.0</td>\n",
       "      <td>21.0</td>\n",
       "      <td>1.0</td>\n",
       "      <td>3.0</td>\n",
       "      <td>95977.0</td>\n",
       "      <td>61.0</td>\n",
       "      <td>2.0</td>\n",
       "      <td>0.0</td>\n",
       "      <td>57124.0</td>\n",
       "      <td>6.0</td>\n",
       "      <td>2.0</td>\n",
       "      <td>1.0</td>\n",
       "      <td>4.0</td>\n",
       "      <td>2.0</td>\n",
       "      <td>1979.0</td>\n",
       "      <td>19.0</td>\n",
       "      <td>0.0</td>\n",
       "      <td>0.0</td>\n",
       "      <td>21.0</td>\n",
       "      <td>0.0</td>\n",
       "    </tr>\n",
       "  </tbody>\n",
       "</table>\n",
       "</div>"
      ],
      "text/plain": [
       "   CASEID  AGE1979  SAMPLE_SEX  SAMPLE_RACE     AFQT  ASVAB  HIGHESTGRADE  \\\n",
       "1     6.0     18.0         1.0          3.0  99393.0   68.0           3.0   \n",
       "3     9.0     15.0         1.0          3.0  59683.0   46.0           3.0   \n",
       "4    13.0     20.0         1.0          3.0  72313.0   30.0           3.0   \n",
       "7    17.0     22.0         1.0          3.0  89669.0   58.0           2.0   \n",
       "8    18.0     21.0         1.0          3.0  95977.0   61.0           2.0   \n",
       "\n",
       "   HEALTHLIMIT   INCOME  INDUSTRY  NUMJOBS  URBAN_RURAL  REGION  MARSTAT_COL  \\\n",
       "1          0.0  25000.0       6.0      2.0          1.0     4.0          2.0   \n",
       "3          0.0  20000.0      10.0      1.0          1.0     1.0          2.0   \n",
       "4          0.0  31000.0       9.0      2.0          1.0     1.0          2.0   \n",
       "7          0.0  20000.0       6.0      2.0          1.0     1.0          1.0   \n",
       "8          0.0  57124.0       6.0      2.0          1.0     4.0          2.0   \n",
       "\n",
       "   YR_ENT_LF  YR_EMP  YR_UNEMP  YR_OUT  AGE_ENT  UNEMP  \n",
       "1     1982.0    15.0       0.0     0.0     21.0    0.0  \n",
       "3     1981.0    16.0       0.0     1.0     17.0    0.0  \n",
       "4     1979.0    19.0       0.0     0.0     20.0    0.0  \n",
       "7     1979.0    19.0       0.0     0.0     22.0    0.0  \n",
       "8     1979.0    19.0       0.0     0.0     21.0    0.0  "
      ]
     },
     "execution_count": 11,
     "metadata": {},
     "output_type": "execute_result"
    }
   ],
   "source": [
    "df.head()"
   ]
  },
  {
   "cell_type": "code",
   "execution_count": 12,
   "metadata": {
    "collapsed": true
   },
   "outputs": [],
   "source": [
    "#create a boolean column to see if they have ever experienced unemployment\n",
    "def exper_tf(row):\n",
    "    if row['YR_UNEMP']>0.0:\n",
    "        return 1\n",
    "    else:\n",
    "        return 0"
   ]
  },
  {
   "cell_type": "code",
   "execution_count": 13,
   "metadata": {
    "collapsed": true
   },
   "outputs": [],
   "source": [
    "df['UNEMP_TF'] = df.apply(exper_tf, axis = 1)"
   ]
  },
  {
   "cell_type": "code",
   "execution_count": 14,
   "metadata": {
    "collapsed": true
   },
   "outputs": [],
   "source": [
    "df = df.drop('YR_UNEMP', 1)\n",
    "df = df.drop('UNEMP', 1)"
   ]
  },
  {
   "cell_type": "code",
   "execution_count": 15,
   "metadata": {
    "collapsed": true
   },
   "outputs": [],
   "source": [
    "clean_data_dumb = pd.get_dummies(df, prefix='Race', columns=['SAMPLE_RACE'], drop_first=True)\n",
    "clean_data_dumb=clean_data_dumb.rename(columns = {'Race_3.0':'NBNH'})\n",
    "clean_data_dumb=clean_data_dumb.rename(columns = {'Race_2.0':'Black'})\n",
    "clean_data_dumb=clean_data_dumb.rename(columns = {'Race_1.0':'Hispanic'})"
   ]
  },
  {
   "cell_type": "code",
   "execution_count": 16,
   "metadata": {
    "collapsed": true
   },
   "outputs": [],
   "source": [
    "clean_data_dumb = pd.get_dummies(clean_data_dumb, prefix='Region', columns=['REGION'], drop_first=True)\n",
    "clean_data_dumb=clean_data_dumb.rename(columns = {'Region_4.0':'West'})\n",
    "clean_data_dumb=clean_data_dumb.rename(columns = {'Region_3.0':'South'})\n",
    "clean_data_dumb=clean_data_dumb.rename(columns = {'Region_2.0':'North_Central'})\n",
    "clean_data_dumb=clean_data_dumb.rename(columns = {'Region_1.0':'Northeast'})"
   ]
  },
  {
   "cell_type": "code",
   "execution_count": 17,
   "metadata": {
    "collapsed": true
   },
   "outputs": [],
   "source": [
    "clean_data_dumb = pd.get_dummies(clean_data_dumb, prefix='Mar', columns=['MARSTAT_COL'], drop_first=True)\n",
    "clean_data_dumb=clean_data_dumb.rename(columns = {'Mar_3.0':'Other'})\n",
    "clean_data_dumb=clean_data_dumb.rename(columns = {'Mar_2.0':'Married'})\n",
    "clean_data_dumb=clean_data_dumb.rename(columns = {'Mar_1.0':'Never_Mar'})"
   ]
  },
  {
   "cell_type": "code",
   "execution_count": 18,
   "metadata": {},
   "outputs": [
    {
     "data": {
      "text/html": [
       "<div>\n",
       "<style>\n",
       "    .dataframe thead tr:only-child th {\n",
       "        text-align: right;\n",
       "    }\n",
       "\n",
       "    .dataframe thead th {\n",
       "        text-align: left;\n",
       "    }\n",
       "\n",
       "    .dataframe tbody tr th {\n",
       "        vertical-align: top;\n",
       "    }\n",
       "</style>\n",
       "<table border=\"1\" class=\"dataframe\">\n",
       "  <thead>\n",
       "    <tr style=\"text-align: right;\">\n",
       "      <th></th>\n",
       "      <th>CASEID</th>\n",
       "      <th>AGE1979</th>\n",
       "      <th>SAMPLE_SEX</th>\n",
       "      <th>AFQT</th>\n",
       "      <th>ASVAB</th>\n",
       "      <th>HIGHESTGRADE</th>\n",
       "      <th>HEALTHLIMIT</th>\n",
       "      <th>INCOME</th>\n",
       "      <th>INDUSTRY</th>\n",
       "      <th>NUMJOBS</th>\n",
       "      <th>...</th>\n",
       "      <th>YR_OUT</th>\n",
       "      <th>AGE_ENT</th>\n",
       "      <th>UNEMP_TF</th>\n",
       "      <th>Black</th>\n",
       "      <th>NBNH</th>\n",
       "      <th>North_Central</th>\n",
       "      <th>South</th>\n",
       "      <th>West</th>\n",
       "      <th>Married</th>\n",
       "      <th>Other</th>\n",
       "    </tr>\n",
       "  </thead>\n",
       "  <tbody>\n",
       "    <tr>\n",
       "      <th>1</th>\n",
       "      <td>6.0</td>\n",
       "      <td>18.0</td>\n",
       "      <td>1.0</td>\n",
       "      <td>99393.0</td>\n",
       "      <td>68.0</td>\n",
       "      <td>3.0</td>\n",
       "      <td>0.0</td>\n",
       "      <td>25000.0</td>\n",
       "      <td>6.0</td>\n",
       "      <td>2.0</td>\n",
       "      <td>...</td>\n",
       "      <td>0.0</td>\n",
       "      <td>21.0</td>\n",
       "      <td>0</td>\n",
       "      <td>0</td>\n",
       "      <td>1</td>\n",
       "      <td>0</td>\n",
       "      <td>0</td>\n",
       "      <td>1</td>\n",
       "      <td>1</td>\n",
       "      <td>0</td>\n",
       "    </tr>\n",
       "    <tr>\n",
       "      <th>3</th>\n",
       "      <td>9.0</td>\n",
       "      <td>15.0</td>\n",
       "      <td>1.0</td>\n",
       "      <td>59683.0</td>\n",
       "      <td>46.0</td>\n",
       "      <td>3.0</td>\n",
       "      <td>0.0</td>\n",
       "      <td>20000.0</td>\n",
       "      <td>10.0</td>\n",
       "      <td>1.0</td>\n",
       "      <td>...</td>\n",
       "      <td>1.0</td>\n",
       "      <td>17.0</td>\n",
       "      <td>0</td>\n",
       "      <td>0</td>\n",
       "      <td>1</td>\n",
       "      <td>0</td>\n",
       "      <td>0</td>\n",
       "      <td>0</td>\n",
       "      <td>1</td>\n",
       "      <td>0</td>\n",
       "    </tr>\n",
       "    <tr>\n",
       "      <th>4</th>\n",
       "      <td>13.0</td>\n",
       "      <td>20.0</td>\n",
       "      <td>1.0</td>\n",
       "      <td>72313.0</td>\n",
       "      <td>30.0</td>\n",
       "      <td>3.0</td>\n",
       "      <td>0.0</td>\n",
       "      <td>31000.0</td>\n",
       "      <td>9.0</td>\n",
       "      <td>2.0</td>\n",
       "      <td>...</td>\n",
       "      <td>0.0</td>\n",
       "      <td>20.0</td>\n",
       "      <td>0</td>\n",
       "      <td>0</td>\n",
       "      <td>1</td>\n",
       "      <td>0</td>\n",
       "      <td>0</td>\n",
       "      <td>0</td>\n",
       "      <td>1</td>\n",
       "      <td>0</td>\n",
       "    </tr>\n",
       "    <tr>\n",
       "      <th>7</th>\n",
       "      <td>17.0</td>\n",
       "      <td>22.0</td>\n",
       "      <td>1.0</td>\n",
       "      <td>89669.0</td>\n",
       "      <td>58.0</td>\n",
       "      <td>2.0</td>\n",
       "      <td>0.0</td>\n",
       "      <td>20000.0</td>\n",
       "      <td>6.0</td>\n",
       "      <td>2.0</td>\n",
       "      <td>...</td>\n",
       "      <td>0.0</td>\n",
       "      <td>22.0</td>\n",
       "      <td>0</td>\n",
       "      <td>0</td>\n",
       "      <td>1</td>\n",
       "      <td>0</td>\n",
       "      <td>0</td>\n",
       "      <td>0</td>\n",
       "      <td>0</td>\n",
       "      <td>0</td>\n",
       "    </tr>\n",
       "    <tr>\n",
       "      <th>8</th>\n",
       "      <td>18.0</td>\n",
       "      <td>21.0</td>\n",
       "      <td>1.0</td>\n",
       "      <td>95977.0</td>\n",
       "      <td>61.0</td>\n",
       "      <td>2.0</td>\n",
       "      <td>0.0</td>\n",
       "      <td>57124.0</td>\n",
       "      <td>6.0</td>\n",
       "      <td>2.0</td>\n",
       "      <td>...</td>\n",
       "      <td>0.0</td>\n",
       "      <td>21.0</td>\n",
       "      <td>0</td>\n",
       "      <td>0</td>\n",
       "      <td>1</td>\n",
       "      <td>0</td>\n",
       "      <td>0</td>\n",
       "      <td>1</td>\n",
       "      <td>1</td>\n",
       "      <td>0</td>\n",
       "    </tr>\n",
       "  </tbody>\n",
       "</table>\n",
       "<p>5 rows × 23 columns</p>\n",
       "</div>"
      ],
      "text/plain": [
       "   CASEID  AGE1979  SAMPLE_SEX     AFQT  ASVAB  HIGHESTGRADE  HEALTHLIMIT  \\\n",
       "1     6.0     18.0         1.0  99393.0   68.0           3.0          0.0   \n",
       "3     9.0     15.0         1.0  59683.0   46.0           3.0          0.0   \n",
       "4    13.0     20.0         1.0  72313.0   30.0           3.0          0.0   \n",
       "7    17.0     22.0         1.0  89669.0   58.0           2.0          0.0   \n",
       "8    18.0     21.0         1.0  95977.0   61.0           2.0          0.0   \n",
       "\n",
       "    INCOME  INDUSTRY  NUMJOBS  ...    YR_OUT  AGE_ENT  UNEMP_TF  Black  NBNH  \\\n",
       "1  25000.0       6.0      2.0  ...       0.0     21.0         0      0     1   \n",
       "3  20000.0      10.0      1.0  ...       1.0     17.0         0      0     1   \n",
       "4  31000.0       9.0      2.0  ...       0.0     20.0         0      0     1   \n",
       "7  20000.0       6.0      2.0  ...       0.0     22.0         0      0     1   \n",
       "8  57124.0       6.0      2.0  ...       0.0     21.0         0      0     1   \n",
       "\n",
       "   North_Central  South  West  Married  Other  \n",
       "1              0      0     1        1      0  \n",
       "3              0      0     0        1      0  \n",
       "4              0      0     0        1      0  \n",
       "7              0      0     0        0      0  \n",
       "8              0      0     1        1      0  \n",
       "\n",
       "[5 rows x 23 columns]"
      ]
     },
     "execution_count": 18,
     "metadata": {},
     "output_type": "execute_result"
    }
   ],
   "source": [
    "clean_data_dumb.head()"
   ]
  },
  {
   "cell_type": "markdown",
   "metadata": {},
   "source": [
    "## Cross Validation"
   ]
  },
  {
   "cell_type": "code",
   "execution_count": 23,
   "metadata": {},
   "outputs": [],
   "source": [
    "import sklearn\n",
    "from sklearn import tree\n",
    "from sklearn.model_selection import GridSearchCV"
   ]
  },
  {
   "cell_type": "code",
   "execution_count": 96,
   "metadata": {
    "collapsed": true
   },
   "outputs": [],
   "source": [
    "X = clean_data_dumb.loc[:, clean_data_dumb.columns != 'UNEMP_TF']\n",
    "target = clean_data_dumb['UNEMP_TF']"
   ]
  },
  {
   "cell_type": "code",
   "execution_count": 97,
   "metadata": {},
   "outputs": [
    {
     "data": {
      "text/plain": [
       "Index(['CASEID', 'AGE1979', 'SAMPLE_SEX', 'AFQT', 'ASVAB', 'HIGHESTGRADE',\n",
       "       'HEALTHLIMIT', 'INCOME', 'INDUSTRY', 'NUMJOBS', 'URBAN_RURAL',\n",
       "       'YR_ENT_LF', 'YR_EMP', 'YR_OUT', 'AGE_ENT', 'Black', 'NBNH',\n",
       "       'North_Central', 'South', 'West', 'Married', 'Other'],\n",
       "      dtype='object')"
      ]
     },
     "execution_count": 97,
     "metadata": {},
     "output_type": "execute_result"
    }
   ],
   "source": [
    "X.columns"
   ]
  },
  {
   "cell_type": "code",
   "execution_count": 105,
   "metadata": {},
   "outputs": [
    {
     "name": "stdout",
     "output_type": "stream",
     "text": [
      "0.669710202461 {'criterion': 'entropy', 'max_depth': 8, 'max_features': 'auto'}\n"
     ]
    }
   ],
   "source": [
    "features = X.columns\n",
    "\n",
    "parameters = {'max_depth':range(3,20), 'max_features': ['auto', 'sqrt', 'log2'],\n",
    "             'criterion': ['gini', 'entropy']}\n",
    "clf = GridSearchCV(tree.DecisionTreeClassifier(), parameters)\n",
    "clf.fit(X=X, y=target)\n",
    "tree_model = clf.best_estimator_\n",
    "print (clf.best_score_, clf.best_params_) "
   ]
  },
  {
   "cell_type": "code",
   "execution_count": 106,
   "metadata": {},
   "outputs": [],
   "source": [
    "X_train, X_test, y_train, y_test = sklearn.model_selection.train_test_split(X, target, test_size=0.2)"
   ]
  },
  {
   "cell_type": "code",
   "execution_count": 107,
   "metadata": {
    "collapsed": true
   },
   "outputs": [],
   "source": [
    "clf = tree.DecisionTreeClassifier(max_depth=7)\n",
    "clf = clf.fit(X_train, y_train)"
   ]
  },
  {
   "cell_type": "code",
   "execution_count": 108,
   "metadata": {},
   "outputs": [
    {
     "data": {
      "text/plain": [
       "0.75793650793650791"
      ]
     },
     "execution_count": 108,
     "metadata": {},
     "output_type": "execute_result"
    }
   ],
   "source": [
    "clf.score(X_test, y_test)"
   ]
  },
  {
   "cell_type": "code",
   "execution_count": 109,
   "metadata": {},
   "outputs": [],
   "source": [
    "feature_import = clf.feature_importances_"
   ]
  },
  {
   "cell_type": "code",
   "execution_count": 110,
   "metadata": {},
   "outputs": [
    {
     "data": {
      "text/plain": [
       "array([ 0.05260841,  0.        ,  0.        ,  0.06236731,  0.00636086,\n",
       "        0.        ,  0.        ,  0.1710037 ,  0.01088413,  0.00395498,\n",
       "        0.        ,  0.17307028,  0.40389528,  0.09373441,  0.01611351,\n",
       "        0.        ,  0.        ,  0.        ,  0.00600712,  0.        ,\n",
       "        0.        ,  0.        ])"
      ]
     },
     "execution_count": 110,
     "metadata": {},
     "output_type": "execute_result"
    }
   ],
   "source": [
    "feature_import"
   ]
  },
  {
   "cell_type": "code",
   "execution_count": 111,
   "metadata": {},
   "outputs": [],
   "source": [
    "#after looking at feature importances- select only the features which are the most important/greater than 0\n",
    "important = []\n",
    "for i in range(len(feature_import)):\n",
    "    if feature_import[i] > 0:\n",
    "        important.append(features[i])"
   ]
  },
  {
   "cell_type": "code",
   "execution_count": 112,
   "metadata": {},
   "outputs": [
    {
     "data": {
      "text/plain": [
       "['CASEID',\n",
       " 'AFQT',\n",
       " 'ASVAB',\n",
       " 'INCOME',\n",
       " 'INDUSTRY',\n",
       " 'NUMJOBS',\n",
       " 'YR_ENT_LF',\n",
       " 'YR_EMP',\n",
       " 'YR_OUT',\n",
       " 'AGE_ENT',\n",
       " 'South']"
      ]
     },
     "execution_count": 112,
     "metadata": {},
     "output_type": "execute_result"
    }
   ],
   "source": [
    "important"
   ]
  },
  {
   "cell_type": "code",
   "execution_count": 113,
   "metadata": {},
   "outputs": [
    {
     "data": {
      "text/plain": [
       "0.76984126984126988"
      ]
     },
     "execution_count": 113,
     "metadata": {},
     "output_type": "execute_result"
    }
   ],
   "source": [
    "#fit again only with these features\n",
    "X = clean_data_dumb[important]\n",
    "\n",
    "X_train, X_test, y_train, y_test = sklearn.model_selection.train_test_split(X, target, test_size=0.2)\n",
    "\n",
    "clf = tree.DecisionTreeClassifier(max_depth=7)\n",
    "clf = clf.fit(X_train, y_train)\n",
    "\n",
    "clf.score(X_test, y_test)"
   ]
  },
  {
   "cell_type": "markdown",
   "metadata": {},
   "source": [
    "### Random Forest With Cross Validation"
   ]
  },
  {
   "cell_type": "code",
   "execution_count": 114,
   "metadata": {
    "collapsed": true
   },
   "outputs": [],
   "source": [
    "from sklearn.ensemble import RandomForestClassifier"
   ]
  },
  {
   "cell_type": "code",
   "execution_count": 115,
   "metadata": {},
   "outputs": [
    {
     "name": "stdout",
     "output_type": "stream",
     "text": [
      "{'max_features': 'auto', 'n_estimators': 700}\n"
     ]
    }
   ],
   "source": [
    "features = X.columns\n",
    "\n",
    "rfc = RandomForestClassifier(n_estimators=50)\n",
    "param_grid = { \n",
    "    'n_estimators': [50, 100, 200, 700],\n",
    "    'max_features': ['auto', 'sqrt', 'log2']\n",
    "}\n",
    "\n",
    "CV_rfc = GridSearchCV(estimator=rfc, param_grid=param_grid, cv= 5)\n",
    "CV_rfc.fit(X_train, y_train)\n",
    "print(CV_rfc.best_params_)"
   ]
  },
  {
   "cell_type": "code",
   "execution_count": 116,
   "metadata": {},
   "outputs": [
    {
     "data": {
      "text/plain": [
       "RandomForestClassifier(bootstrap=True, class_weight=None, criterion='gini',\n",
       "            max_depth=None, max_features='log2', max_leaf_nodes=None,\n",
       "            min_impurity_split=1e-07, min_samples_leaf=1,\n",
       "            min_samples_split=2, min_weight_fraction_leaf=0.0,\n",
       "            n_estimators=100, n_jobs=1, oob_score=False, random_state=None,\n",
       "            verbose=0, warm_start=False)"
      ]
     },
     "execution_count": 116,
     "metadata": {},
     "output_type": "execute_result"
    }
   ],
   "source": [
    "clf = RandomForestClassifier(n_estimators=100, max_features='log2')\n",
    "clf.fit(X_train, y_train)"
   ]
  },
  {
   "cell_type": "code",
   "execution_count": 117,
   "metadata": {},
   "outputs": [
    {
     "data": {
      "text/plain": [
       "0.7857142857142857"
      ]
     },
     "execution_count": 117,
     "metadata": {},
     "output_type": "execute_result"
    }
   ],
   "source": [
    "clf.score(X_test, y_test)"
   ]
  },
  {
   "cell_type": "markdown",
   "metadata": {},
   "source": [
    "## Final results (Male Only):\n",
    "\n",
    "### Decision Tree: 0.769\n",
    "\n",
    "### Random Forest: 0.7857"
   ]
  }
 ],
 "metadata": {
  "kernelspec": {
   "display_name": "Python 3",
   "language": "python",
   "name": "python3"
  },
  "language_info": {
   "codemirror_mode": {
    "name": "ipython",
    "version": 3
   },
   "file_extension": ".py",
   "mimetype": "text/x-python",
   "name": "python",
   "nbconvert_exporter": "python",
   "pygments_lexer": "ipython3",
   "version": "3.6.1"
  }
 },
 "nbformat": 4,
 "nbformat_minor": 2
}
